{
 "cells": [
  {
   "cell_type": "markdown",
   "metadata": {},
   "source": [
    "# Rollback Reason Predictor classifier"
   ]
  },
  {
   "cell_type": "code",
   "execution_count": 1,
   "metadata": {},
   "outputs": [
    {
     "name": "stderr",
     "output_type": "stream",
     "text": [
      "[nltk_data] Downloading package stopwords to\n",
      "[nltk_data]     C:\\Users\\ranji\\AppData\\Roaming\\nltk_data...\n",
      "[nltk_data]   Package stopwords is already up-to-date!\n"
     ]
    }
   ],
   "source": [
    "# importing all the libraries\n",
    "import pandas as pd\n",
    "import seaborn as sn\n",
    "import matplotlib.pyplot as plt\n",
    "import nltk\n",
    "nltk.download('stopwords')\n",
    "import contractions\n",
    "from nltk.corpus import stopwords\n",
    "from nltk.stem import WordNetLemmatizer\n",
    "import re\n",
    "from tqdm import tqdm_notebook as tqdm\n",
    "from sklearn.utils import shuffle\n",
    "from sklearn.feature_extraction.text import TfidfVectorizer\n",
    "from sklearn.model_selection import train_test_split\n",
    "from sklearn.linear_model import LogisticRegression\n",
    "from sklearn.metrics import accuracy_score, classification_report\n",
    "from sklearn.metrics import classification_report,confusion_matrix"
   ]
  },
  {
   "cell_type": "markdown",
   "metadata": {},
   "source": [
    "## Fetching the Manually segregated Dataset\n"
   ]
  },
  {
   "cell_type": "code",
   "execution_count": 2,
   "metadata": {},
   "outputs": [],
   "source": [
    "df_add = pd.read_csv(\"C:/Users/ranji/Desktop/SE/Project/Manual analysis/added.csv\")\n",
    "df_format = pd.read_csv(\"C:/Users/ranji/Desktop/SE/Project/Manual analysis/Format errors.csv\")\n",
    "df_grammer = pd.read_csv(\"C:/Users/ranji/Desktop/SE/Project/Manual analysis/grammer.csv\")\n",
    "df_spam = pd.read_csv(\"C:/Users/ranji/Desktop/SE/Project/Manual analysis/spam.csv\")\n",
    "df_typo = pd.read_csv(\"C:/Users/ranji/Desktop/SE/Project/Manual analysis/typo errors.csv\")\n"
   ]
  },
  {
   "cell_type": "code",
   "execution_count": 3,
   "metadata": {},
   "outputs": [],
   "source": [
    "df_dataset = pd.concat([df_add, df_format, df_grammer, df_spam, df_typo], axis=0)"
   ]
  },
  {
   "cell_type": "code",
   "execution_count": 4,
   "metadata": {},
   "outputs": [],
   "source": [
    "df_dataset = df_dataset.drop([\"Unnamed: 0\"], axis=1)\n"
   ]
  },
  {
   "cell_type": "code",
   "execution_count": 5,
   "metadata": {},
   "outputs": [],
   "source": [
    "# shuffling the dataset\n",
    "df_dataset = shuffle(df_dataset)"
   ]
  },
  {
   "cell_type": "code",
   "execution_count": 7,
   "metadata": {},
   "outputs": [
    {
     "data": {
      "text/html": [
       "<div>\n",
       "<style scoped>\n",
       "    .dataframe tbody tr th:only-of-type {\n",
       "        vertical-align: middle;\n",
       "    }\n",
       "\n",
       "    .dataframe tbody tr th {\n",
       "        vertical-align: top;\n",
       "    }\n",
       "\n",
       "    .dataframe thead th {\n",
       "        text-align: right;\n",
       "    }\n",
       "</style>\n",
       "<table border=\"1\" class=\"dataframe\">\n",
       "  <thead>\n",
       "    <tr style=\"text-align: right;\">\n",
       "      <th></th>\n",
       "      <th>data</th>\n",
       "      <th>label</th>\n",
       "    </tr>\n",
       "  </thead>\n",
       "  <tbody>\n",
       "    <tr>\n",
       "      <th>346</th>\n",
       "      <td>i have a big number of `Polygons` extracted fr...</td>\n",
       "      <td>grammatic errors</td>\n",
       "    </tr>\n",
       "    <tr>\n",
       "      <th>201</th>\n",
       "      <td>I am a new leaner of C++ and I got stuck on on...</td>\n",
       "      <td>added or removed</td>\n",
       "    </tr>\n",
       "    <tr>\n",
       "      <th>257</th>\n",
       "      <td>To solve this problem, it took me about three ...</td>\n",
       "      <td>grammatic errors</td>\n",
       "    </tr>\n",
       "    <tr>\n",
       "      <th>153</th>\n",
       "      <td>I wanted to compare reading lines of string in...</td>\n",
       "      <td>grammatic errors</td>\n",
       "    </tr>\n",
       "    <tr>\n",
       "      <th>77</th>\n",
       "      <td>If you want do insert ellipsis dependent on th...</td>\n",
       "      <td>spam</td>\n",
       "    </tr>\n",
       "    <tr>\n",
       "      <th>419</th>\n",
       "      <td>Here is a Go program:\\r\\n\\r\\n~~~go\\r\\nimport \"...</td>\n",
       "      <td>typo errors</td>\n",
       "    </tr>\n",
       "    <tr>\n",
       "      <th>205</th>\n",
       "      <td>Recently I wanted to learn Node.js to help me ...</td>\n",
       "      <td>typo errors</td>\n",
       "    </tr>\n",
       "    <tr>\n",
       "      <th>72</th>\n",
       "      <td>Usually you would use `np.argwhere(e == 2)`:\\r...</td>\n",
       "      <td>added or removed</td>\n",
       "    </tr>\n",
       "    <tr>\n",
       "      <th>500</th>\n",
       "      <td>I'm stuck trying to clear up lag and timing is...</td>\n",
       "      <td>added or removed</td>\n",
       "    </tr>\n",
       "    <tr>\n",
       "      <th>78</th>\n",
       "      <td>I have a list of location items (as `&lt;li&gt;` ele...</td>\n",
       "      <td>typo errors</td>\n",
       "    </tr>\n",
       "  </tbody>\n",
       "</table>\n",
       "</div>"
      ],
      "text/plain": [
       "                                                  data             label\n",
       "346  i have a big number of `Polygons` extracted fr...  grammatic errors\n",
       "201  I am a new leaner of C++ and I got stuck on on...  added or removed\n",
       "257  To solve this problem, it took me about three ...  grammatic errors\n",
       "153  I wanted to compare reading lines of string in...  grammatic errors\n",
       "77   If you want do insert ellipsis dependent on th...              spam\n",
       "419  Here is a Go program:\\r\\n\\r\\n~~~go\\r\\nimport \"...       typo errors\n",
       "205  Recently I wanted to learn Node.js to help me ...       typo errors\n",
       "72   Usually you would use `np.argwhere(e == 2)`:\\r...  added or removed\n",
       "500  I'm stuck trying to clear up lag and timing is...  added or removed\n",
       "78   I have a list of location items (as `<li>` ele...       typo errors"
      ]
     },
     "execution_count": 7,
     "metadata": {},
     "output_type": "execute_result"
    }
   ],
   "source": [
    "df_dataset.head(10)"
   ]
  },
  {
   "cell_type": "markdown",
   "metadata": {},
   "source": [
    "## Dataset class-wise count before resampling"
   ]
  },
  {
   "cell_type": "code",
   "execution_count": 9,
   "metadata": {},
   "outputs": [
    {
     "data": {
      "text/plain": [
       "added or removed    1285\n",
       "grammatic errors     460\n",
       "typo errors          435\n",
       "Format errors        224\n",
       "spam                 112\n",
       "Name: label, dtype: int64"
      ]
     },
     "execution_count": 9,
     "metadata": {},
     "output_type": "execute_result"
    }
   ],
   "source": [
    "df_dataset[\"label\"].value_counts()"
   ]
  },
  {
   "cell_type": "code",
   "execution_count": 10,
   "metadata": {},
   "outputs": [],
   "source": [
    "df_Filtered_data = df_dataset[\"data\"]\n",
    "df_Filtered_label =  df_dataset[\"label\"]\n",
    "df_X = list(df_Filtered_data.copy())\n",
    "df_y = list(df_Filtered_label.copy())"
   ]
  },
  {
   "cell_type": "markdown",
   "metadata": {},
   "source": [
    "## Data Pre-processing "
   ]
  },
  {
   "cell_type": "code",
   "execution_count": 39,
   "metadata": {},
   "outputs": [],
   "source": [
    "# since removal of contractions and lemmatization reduced the performance of the model, they were not included\n",
    "def text_preprocess(ds):\n",
    "    result = []\n",
    "    for m in tqdm(ds):\n",
    "        main_words = m.split()        \n",
    "    \n",
    "        #remove contractions \"don't -> do not\"\n",
    "        #main_words = [contractions.fix(w) for w in main_words if len(w) > 1]\n",
    "        \n",
    "        # Remove stopwords\n",
    "        main_words = [w for w in main_words if not w in set(stopwords.words('english'))]  \n",
    "        \n",
    "         \n",
    "        # Group different forms of the same word\n",
    "        #lem = WordNetLemmatizer()\n",
    "        #main_words = [lem.lemmatize(w) for w in main_words if len(w) > 1]     \n",
    "        \n",
    "        #adding the questions length as an additional feature\n",
    "\n",
    "        main_words = ' '.join(main_words)\n",
    "        result.append(main_words)\n",
    "        \n",
    "\n",
    "    return result"
   ]
  },
  {
   "cell_type": "code",
   "execution_count": 40,
   "metadata": {},
   "outputs": [
    {
     "name": "stderr",
     "output_type": "stream",
     "text": [
      "<ipython-input-39-374f9acd2b6f>:4: TqdmDeprecationWarning: This function will be removed in tqdm==5.0.0\n",
      "Please use `tqdm.notebook.tqdm` instead of `tqdm.tqdm_notebook`\n",
      "  for m in tqdm(ds):\n"
     ]
    },
    {
     "data": {
      "application/vnd.jupyter.widget-view+json": {
       "model_id": "d13ab79da1414461bc107bca30b0c394",
       "version_major": 2,
       "version_minor": 0
      },
      "text/plain": [
       "HBox(children=(HTML(value=''), FloatProgress(value=0.0, max=2516.0), HTML(value='')))"
      ]
     },
     "metadata": {},
     "output_type": "display_data"
    },
    {
     "name": "stdout",
     "output_type": "stream",
     "text": [
      "\n"
     ]
    }
   ],
   "source": [
    "pre_processedData = text_preprocess(df_X)"
   ]
  },
  {
   "cell_type": "markdown",
   "metadata": {},
   "source": [
    "## Dataset Vectorization"
   ]
  },
  {
   "cell_type": "code",
   "execution_count": 44,
   "metadata": {},
   "outputs": [
    {
     "name": "stderr",
     "output_type": "stream",
     "text": [
      "<ipython-input-44-166c890c4178>:3: TqdmDeprecationWarning: This function will be removed in tqdm==5.0.0\n",
      "Please use `tqdm.notebook.tqdm` instead of `tqdm.tqdm_notebook`\n",
      "  for i in tqdm(pre_processedData):\n"
     ]
    },
    {
     "data": {
      "application/vnd.jupyter.widget-view+json": {
       "model_id": "53d9255b09c8443cabdab9941e28a556",
       "version_major": 2,
       "version_minor": 0
      },
      "text/plain": [
       "HBox(children=(HTML(value=''), FloatProgress(value=0.0, max=2516.0), HTML(value='')))"
      ]
     },
     "metadata": {},
     "output_type": "display_data"
    },
    {
     "name": "stdout",
     "output_type": "stream",
     "text": [
      "\n"
     ]
    }
   ],
   "source": [
    "#Extracting the bag of words for vectorization\n",
    "bag_of_words = []\n",
    "for i in tqdm(pre_processedData):\n",
    "    lis = i.split()\n",
    "    for j in lis:\n",
    "        if j not in bag_of_words:\n",
    "            bag_of_words.append(j)"
   ]
  },
  {
   "cell_type": "code",
   "execution_count": 45,
   "metadata": {},
   "outputs": [],
   "source": [
    "# Building a TF IDF matrix out of the bag of words\n",
    "\n",
    "td = TfidfVectorizer()\n",
    "Vectorized_X = td.fit(bag_of_words)\n"
   ]
  },
  {
   "cell_type": "code",
   "execution_count": 46,
   "metadata": {},
   "outputs": [],
   "source": [
    "# Resampling the data and getting train and test sets \n",
    "from imblearn.over_sampling import RandomOverSampler\n",
    "\n",
    "# Vectorize the input data\n",
    "Questions_Vectorized= Vectorized_X.transform(df_X)\n",
    "\n",
    "# Only the minority classes are resampled\n",
    "resample_data = RandomOverSampler(sampling_strategy='not majority', random_state=5)\n",
    "\n",
    "# The data is fit into the seleted resampler\n",
    "X_resampled, y_resampled = resample_data.fit_resample(Questions_Vectorized, df_y)\n",
    "# The resampled data is split into train and test sets\n",
    "X_train, X_test, Y_train, Y_test = train_test_split(X_resampled, y_resampled, test_size=0.2,random_state=20)"
   ]
  },
  {
   "cell_type": "markdown",
   "metadata": {},
   "source": [
    "## Dataset class-wise count after resampling"
   ]
  },
  {
   "cell_type": "code",
   "execution_count": 47,
   "metadata": {},
   "outputs": [],
   "source": [
    "resample_label_train = pd.DataFrame()\n",
    "resample_label_train[\"label\"] = Y_train"
   ]
  },
  {
   "cell_type": "code",
   "execution_count": 48,
   "metadata": {},
   "outputs": [
    {
     "data": {
      "text/plain": [
       "label           \n",
       "typo errors         1043\n",
       "grammatic errors    1036\n",
       "Format errors       1028\n",
       "spam                1027\n",
       "added or removed    1006\n",
       "dtype: int64"
      ]
     },
     "execution_count": 48,
     "metadata": {},
     "output_type": "execute_result"
    }
   ],
   "source": [
    "resample_label_train.value_counts()"
   ]
  },
  {
   "cell_type": "markdown",
   "metadata": {},
   "source": [
    "# Training and evaluating the LogisticRegression classifier"
   ]
  },
  {
   "cell_type": "code",
   "execution_count": 49,
   "metadata": {},
   "outputs": [
    {
     "name": "stdout",
     "output_type": "stream",
     "text": [
      "\n",
      " Modle's Accuracy:  84.98 %\n",
      "\n",
      "Classification Report\n",
      "======================================================\n",
      "\n",
      "                   precision    recall  f1-score   support\n",
      "\n",
      "   Format errors       0.87      0.95      0.91       257\n",
      "added or removed       0.81      0.68      0.74       279\n",
      "grammatic errors       0.81      0.80      0.80       249\n",
      "            spam       0.94      0.98      0.96       258\n",
      "     typo errors       0.81      0.85      0.83       242\n",
      "\n",
      "        accuracy                           0.85      1285\n",
      "       macro avg       0.85      0.85      0.85      1285\n",
      "    weighted avg       0.85      0.85      0.85      1285\n",
      "\n",
      "\n",
      "Confusion Matrix\n",
      "======================================================\n"
     ]
    },
    {
     "data": {
      "text/plain": [
       "<AxesSubplot:>"
      ]
     },
     "execution_count": 49,
     "metadata": {},
     "output_type": "execute_result"
    },
    {
     "data": {
      "image/png": "[encoded data removed]",
      "text/plain": [
       "<Figure size 576x360 with 2 Axes>"
      ]
     },
     "metadata": {
      "needs_background": "light"
     },
     "output_type": "display_data"
    }
   ],
   "source": [
    "# Logistic regression for classifier\n",
    "classifier = LogisticRegression(solver='lbfgs', max_iter=1000)\n",
    "classifier.fit(X_train, Y_train)\n",
    "\n",
    "\n",
    "# Classification metrics\n",
    "y_pred = classifier.predict(X_test)\n",
    "from sklearn.metrics import accuracy_score, classification_report\n",
    "classification_report = classification_report(Y_test, y_pred)\n",
    "\n",
    "print(\"\\n Modle's Accuracy: \", (round((accuracy_score(Y_test, y_pred))*100,2)),\"%\")\n",
    "print('\\nClassification Report')\n",
    "print('======================================================')\n",
    "print('\\n', classification_report)\n",
    "\n",
    "\n",
    "cm = confusion_matrix(Y_test,y_pred)\n",
    "\n",
    "\n",
    "df_cm = pd.DataFrame(cm, index = [i for i in list(set(Y_train))],\n",
    "                  columns = [i for i in list(set(Y_train))])\n",
    "plt.figure(figsize = (8,5))\n",
    "print('\\nConfusion Matrix')\n",
    "print('======================================================')\n",
    "sn.heatmap(df_cm, annot=True,  fmt='g')\n",
    "\n"
   ]
  }
 ],
 "metadata": {
  "interpreter": {
   "hash": "c1285cdaada55bd576e1938e50a494ca737632d1be8c77d45aaf1bd121ce3fb5"
  },
  "kernelspec": {
   "display_name": "Python 3.8.5 ('base')",
   "language": "python",
   "name": "python3"
  },
  "language_info": {
   "codemirror_mode": {
    "name": "ipython",
    "version": 3
   },
   "file_extension": ".py",
   "mimetype": "text/x-python",
   "name": "python",
   "nbconvert_exporter": "python",
   "pygments_lexer": "ipython3",
   "version": "3.8.5"
  },
  "orig_nbformat": 4
 },
 "nbformat": 4,
 "nbformat_minor": 2
}
