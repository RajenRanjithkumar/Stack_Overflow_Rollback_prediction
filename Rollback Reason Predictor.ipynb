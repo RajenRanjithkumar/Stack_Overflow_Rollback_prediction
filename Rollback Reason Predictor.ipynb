{
 "cells": [
  {
   "cell_type": "code",
   "execution_count": 1,
   "metadata": {},
   "outputs": [
    {
     "name": "stderr",
     "output_type": "stream",
     "text": [
      "[nltk_data] Downloading package stopwords to\n",
      "[nltk_data]     C:\\Users\\ranji\\AppData\\Roaming\\nltk_data...\n",
      "[nltk_data]   Package stopwords is already up-to-date!\n"
     ]
    }
   ],
   "source": [
    "# importing all the libraries\n",
    "import pandas as pd\n",
    "import seaborn as sn\n",
    "import matplotlib.pyplot as plt\n",
    "import nltk\n",
    "nltk.download('stopwords')\n",
    "import contractions\n",
    "from nltk.corpus import stopwords\n",
    "from nltk.stem import WordNetLemmatizer\n",
    "import re\n",
    "from tqdm import tqdm_notebook as tqdm\n",
    "from sklearn.utils import shuffle\n",
    "from sklearn.feature_extraction.text import TfidfVectorizer\n",
    "from sklearn.model_selection import train_test_split\n",
    "from sklearn.linear_model import LogisticRegression\n",
    "from sklearn.metrics import accuracy_score, classification_report\n",
    "from sklearn.metrics import classification_report,confusion_matrix"
   ]
  },
  {
   "cell_type": "markdown",
   "metadata": {},
   "source": [
    "## Fetching the Manually segregated Dataset\n"
   ]
  },
  {
   "cell_type": "code",
   "execution_count": 2,
   "metadata": {},
   "outputs": [],
   "source": [
    "df_add = pd.read_csv(\"C:/Users/ranji/Desktop/SE/Project/Manual analysis/added.csv\")\n",
    "df_format = pd.read_csv(\"C:/Users/ranji/Desktop/SE/Project/Manual analysis/Format errors.csv\")\n",
    "df_grammer = pd.read_csv(\"C:/Users/ranji/Desktop/SE/Project/Manual analysis/grammer.csv\")\n",
    "df_spam = pd.read_csv(\"C:/Users/ranji/Desktop/SE/Project/Manual analysis/spam.csv\")\n",
    "df_typo = pd.read_csv(\"C:/Users/ranji/Desktop/SE/Project/Manual analysis/typo errors.csv\")\n"
   ]
  },
  {
   "cell_type": "code",
   "execution_count": 3,
   "metadata": {},
   "outputs": [],
   "source": [
    "df_dataset = pd.concat([df_add, df_format, df_grammer, df_spam, df_typo], axis=0)"
   ]
  },
  {
   "cell_type": "code",
   "execution_count": 4,
   "metadata": {},
   "outputs": [],
   "source": [
    "df_dataset = df_dataset.drop([\"Unnamed: 0\"], axis=1)\n"
   ]
  },
  {
   "cell_type": "code",
   "execution_count": 7,
   "metadata": {},
   "outputs": [
    {
     "data": {
      "text/html": [
       "<div>\n",
       "<style scoped>\n",
       "    .dataframe tbody tr th:only-of-type {\n",
       "        vertical-align: middle;\n",
       "    }\n",
       "\n",
       "    .dataframe tbody tr th {\n",
       "        vertical-align: top;\n",
       "    }\n",
       "\n",
       "    .dataframe thead th {\n",
       "        text-align: right;\n",
       "    }\n",
       "</style>\n",
       "<table border=\"1\" class=\"dataframe\">\n",
       "  <thead>\n",
       "    <tr style=\"text-align: right;\">\n",
       "      <th></th>\n",
       "      <th>data</th>\n",
       "      <th>label</th>\n",
       "    </tr>\n",
       "  </thead>\n",
       "  <tbody>\n",
       "    <tr>\n",
       "      <th>355</th>\n",
       "      <td>&lt;sub&gt;*Additional details to the [previous answ...</td>\n",
       "      <td>grammatic errors</td>\n",
       "    </tr>\n",
       "    <tr>\n",
       "      <th>66</th>\n",
       "      <td>If you want to insert ellipsis dependent on th...</td>\n",
       "      <td>spam</td>\n",
       "    </tr>\n",
       "    <tr>\n",
       "      <th>1242</th>\n",
       "      <td>I get the following error when I do a simple c...</td>\n",
       "      <td>added or removed</td>\n",
       "    </tr>\n",
       "    <tr>\n",
       "      <th>1228</th>\n",
       "      <td>The function `dfidx()` is build for data frame...</td>\n",
       "      <td>added or removed</td>\n",
       "    </tr>\n",
       "    <tr>\n",
       "      <th>1218</th>\n",
       "      <td>I believe the best way to go is to have an inp...</td>\n",
       "      <td>added or removed</td>\n",
       "    </tr>\n",
       "    <tr>\n",
       "      <th>...</th>\n",
       "      <td>...</td>\n",
       "      <td>...</td>\n",
       "    </tr>\n",
       "    <tr>\n",
       "      <th>604</th>\n",
       "      <td>&lt;h2&gt;Analysis of Problem&lt;/h2&gt;\\r\\n\\r\\nThe issue ...</td>\n",
       "      <td>added or removed</td>\n",
       "    </tr>\n",
       "    <tr>\n",
       "      <th>116</th>\n",
       "      <td>I want to find empty area in an image (its x-y...</td>\n",
       "      <td>typo errors</td>\n",
       "    </tr>\n",
       "    <tr>\n",
       "      <th>362</th>\n",
       "      <td>if [[ \"$0\" = /* ]]\\r\\n    then\\r\\n       :...</td>\n",
       "      <td>typo errors</td>\n",
       "    </tr>\n",
       "    <tr>\n",
       "      <th>11</th>\n",
       "      <td>In my `jsp` page I have a text box which conta...</td>\n",
       "      <td>typo errors</td>\n",
       "    </tr>\n",
       "    <tr>\n",
       "      <th>299</th>\n",
       "      <td>Calling Python static methods using the class ...</td>\n",
       "      <td>grammatic errors</td>\n",
       "    </tr>\n",
       "  </tbody>\n",
       "</table>\n",
       "<p>2516 rows × 2 columns</p>\n",
       "</div>"
      ],
      "text/plain": [
       "                                                   data             label\n",
       "355   <sub>*Additional details to the [previous answ...  grammatic errors\n",
       "66    If you want to insert ellipsis dependent on th...              spam\n",
       "1242  I get the following error when I do a simple c...  added or removed\n",
       "1228  The function `dfidx()` is build for data frame...  added or removed\n",
       "1218  I believe the best way to go is to have an inp...  added or removed\n",
       "...                                                 ...               ...\n",
       "604   <h2>Analysis of Problem</h2>\\r\\n\\r\\nThe issue ...  added or removed\n",
       "116   I want to find empty area in an image (its x-y...       typo errors\n",
       "362       if [[ \"$0\" = /* ]]\\r\\n    then\\r\\n       :...       typo errors\n",
       "11    In my `jsp` page I have a text box which conta...       typo errors\n",
       "299   Calling Python static methods using the class ...  grammatic errors\n",
       "\n",
       "[2516 rows x 2 columns]"
      ]
     },
     "execution_count": 7,
     "metadata": {},
     "output_type": "execute_result"
    }
   ],
   "source": [
    "df_dataset"
   ]
  },
  {
   "cell_type": "code",
   "execution_count": 6,
   "metadata": {},
   "outputs": [],
   "source": [
    "# shuffling the dataset\n",
    "df_dataset = shuffle(df_dataset)"
   ]
  },
  {
   "cell_type": "markdown",
   "metadata": {},
   "source": [
    "## Dataset class-wise count before resampling"
   ]
  },
  {
   "cell_type": "code",
   "execution_count": 8,
   "metadata": {},
   "outputs": [
    {
     "data": {
      "text/plain": [
       "added or removed    1285\n",
       "grammatic errors     460\n",
       "typo errors          435\n",
       "Format errors        224\n",
       "spam                 112\n",
       "Name: label, dtype: int64"
      ]
     },
     "execution_count": 8,
     "metadata": {},
     "output_type": "execute_result"
    }
   ],
   "source": [
    "df_dataset[\"label\"].value_counts()"
   ]
  },
  {
   "cell_type": "code",
   "execution_count": 9,
   "metadata": {},
   "outputs": [],
   "source": [
    "df_Filtered_data = df_dataset[\"data\"]\n",
    "df_Filtered_label =  df_dataset[\"label\"]\n",
    "df_X = list(df_Filtered_data.copy())\n",
    "df_y = list(df_Filtered_label.copy())"
   ]
  },
  {
   "cell_type": "markdown",
   "metadata": {},
   "source": [
    "## Data Pre-processing "
   ]
  },
  {
   "cell_type": "code",
   "execution_count": 13,
   "metadata": {},
   "outputs": [],
   "source": [
    "# since removal of contractions and lemmatization reduced the performance of the model, they were not included\n",
    "def text_preprocess(ds):\n",
    "    for m in tqdm(ds):\n",
    "\n",
    "        result = []\n",
    "        # Retain only alphabets\n",
    "        #main_words = re.sub('[^a-zA-Z]', ' ', str(ds[m]))\n",
    "        main_words = m        \n",
    "    \n",
    "        \n",
    "        #remove contractions \"don't -> do not\"\n",
    "        #main_words = [contractions.fix(w) for w in main_words if len(w) > 1]\n",
    "        \n",
    "        # Remove stopwords\n",
    "        main_words = [w for w in main_words if not w in set(stopwords.words('english'))]  \n",
    "         \n",
    "        # Group different forms of the same word\n",
    "        #lem = WordNetLemmatizer()\n",
    "        #main_words = [lem.lemmatize(w) for w in main_words if len(w) > 1]     \n",
    "        \n",
    "        #adding the questions length as an additional feature\n",
    "\n",
    "       \n",
    "        main_words = ' '.join(main_words)\n",
    "        result.append(main_words)\n",
    "        #ds[m] = main_words\n",
    "\n",
    "    return result"
   ]
  },
  {
   "cell_type": "code",
   "execution_count": 11,
   "metadata": {},
   "outputs": [
    {
     "data": {
      "text/plain": [
       "'A Java application can be packaged in various ways. Please go through [Java Packaging Overview](https://docs.oracle.com/javase/8/docs/technotes/guides/deploy/packaging.html#BABCIBAD) to find everything about it. One of the packaging is a `self-contained Java application`.\\r\\n\\r\\nThere are different ways to create these packages :\\r\\n\\r\\n- Use the `javapackager` tools that comes with your JDK\\r\\n- JavaFX Ant Tasks\\r\\n- JavaFX Maven Plugin for a maven project\\r\\n\\r\\n\\r\\nSelf-contained application is one the ways how your application can be packaged and is platform specific. The bundle contains :\\r\\n\\r\\n - The application package\\r\\n - A private copy of the JRE\\r\\n\\r\\nA list of available bundles can be [found here](https://docs.oracle.com/javase/8/docs/technotes/guides/deploy/self-contained-packaging.html#A1324980).\\r\\n\\r\\nLet us check out the various tools available at our disposal and how to use them:\\r\\n\\r\\n**JavaPackager Tool**\\r\\n\\r\\n[JavaPackager Tool](https://docs.oracle.com/javase/8/docs/technotes/guides/deploy/packager.html#CCHIHIIJ) is the most basic tool and helps you to compile, package, sign, and deploy your Java(FX) applications, without writing any additional scripts. The `javapackager.jar` file is located in the bin directory of the JDK installation.\\r\\n\\r\\nThe list of commands, that can be used with it is [available here](http://docs.oracle.com/javase/8/docs/technotes/guides/deploy/packager.html).\\r\\n\\r\\n**JavaFX Ant Tasks**\\r\\n\\r\\n[JavaFX Ant Tasks](https://docs.oracle.com/javase/8/docs/technotes/guides/deploy/javafx_ant_tasks.html#CIACDJHC) helps you package your application by just creating a `build.xml` file for your project.\\r\\n\\r\\nA set of examples on how to use ant scripts for your project can be [found here](https://docs.oracle.com/javase/8/docs/technotes/guides/deploy/javafx_ant_tasks.html#CIAEBEDD).\\r\\n\\r\\nThe list of commands that can be used for with it is [available here](https://docs.oracle.com/javase/8/docs/technotes/guides/deploy/javafx_ant_task_reference.html#CIAJGAFH).\\r\\n\\r\\n**JavaFX Maven Plugin**\\r\\n\\r\\n[JavaFX Maven Plugin](http://javafx-maven-plugin.github.io/) leverages the usage of packaging java application to the maven platform. You can it to package your maven based java application by adding a plugin to the project. \\r\\n\\r\\nThis plugin IMHO, if the `easiest` to use out of the three. It is a very nicely written, easy to understand tool and has extensive documentation.\\r\\n\\r\\n**JavaFX Gradle Plugin**\\r\\n\\r\\n[JavaFX Gradle Plugin](https://github.com/FibreFoX/javafx-gradle-plugin) is also from the author of the maven plugin. It has all the features that the maven plugin has, but for Gradle :)\\r\\n\\r\\n***Further Reading :***\\r\\n\\r\\n- [Native packaging for JavaFX](https://blogs.oracle.com/talkingjavadeployment/entry/native_packaging_for_javafx)\\r\\n- [JavaFX packaging tools update](https://blogs.oracle.com/talkingjavadeployment/entry/packaging_improvements_in_jdk_7)'"
      ]
     },
     "execution_count": 11,
     "metadata": {},
     "output_type": "execute_result"
    }
   ],
   "source": [
    "df_X[1850]"
   ]
  },
  {
   "cell_type": "code",
   "execution_count": 14,
   "metadata": {},
   "outputs": [
    {
     "name": "stderr",
     "output_type": "stream",
     "text": [
      "<ipython-input-13-9e1012c2ccec>:2: TqdmDeprecationWarning: This function will be removed in tqdm==5.0.0\n",
      "Please use `tqdm.notebook.tqdm` instead of `tqdm.tqdm_notebook`\n",
      "  for m in tqdm(ds):\n"
     ]
    },
    {
     "data": {
      "application/vnd.jupyter.widget-view+json": {
       "model_id": "6b712fccd2da4e9daaf4073b081b5d84",
       "version_major": 2,
       "version_minor": 0
      },
      "text/plain": [
       "HBox(children=(HTML(value=''), FloatProgress(value=0.0, max=2516.0), HTML(value='')))"
      ]
     },
     "metadata": {},
     "output_type": "display_data"
    },
    {
     "name": "stdout",
     "output_type": "stream",
     "text": [
      "\n"
     ]
    }
   ],
   "source": [
    "pre_processedData = text_preprocess(df_X)"
   ]
  },
  {
   "cell_type": "code",
   "execution_count": 19,
   "metadata": {},
   "outputs": [
    {
     "data": {
      "text/plain": [
       "[\"C l l n g   P h n   c   e h   u n g   h e   c l   n e     r e   c n ,   b u   c n   b e     r e l   e e   r e   f r   l n g   c l   n e .   S e e   I   u e   ` e l f `   w h n   h e   e   c l     c l l   h e   c   e h ,   b e c u e   I   f n     l k   c l e n e r . \\r \\n \\r \\n ` ` ` p h n \\r \\n c l   A S e w h L n g B u D e c r p v e C l N e : \\r \\n \\r \\n       e f   _ _ n _ _ ( e l f ) : \\r \\n             #   T h   w r k ,   b u   '   n   e e r e \\r \\n             A S e w h L n g B u D e c r p v e C l N e . _ e h n g _ c ( ) \\r \\n \\r \\n             #   T h   w r k     n   l k   c l e n e r . \\r \\n             e l f . _ e h n g _ c ( ) \\r \\n \\r \\n       @ c e h \\r \\n       e f   _ e h n g _ c ( ) : \\r \\n             p r n ( ' S c   e h   c l l e . ' ) \\r \\n ` ` ` \\r \\n \\r \\n M   u n e r n n g     h   c l l n g     c   e h   w h   ` e l f `   g e   n e r p r e e     ` C l N e . c _ e h ( e l f ) ` ,   w h e r e   ` e l f `   w u l   b e   g n r e   b   h e   c   e h . < b r > \\r \\n * * ( E D I T :   T h e   b v e   e e n     n l   r u e   f r   n n c e   e h ,   n   c   e h ) * * \\r \\n \\r \\n A r e   h e r e   n   c n c r e e   r e n   w h   I   h u l   n   u e   ` e l f `     c l l   c   e h   w h n   h e   e   c l ? \\r \\n \\r \\n >   F W I W   T h       e r   q u e n     h p : / / c k v e r f l w . c / q u e n / 4 1 5 5 2 3 4 9 / f f e r e n c e - b e w e e n - c l l n g - e h - w h - e l f - n - w h - c l - n e ,   w h c h   e l   w h   n n - c   e h .\"]"
      ]
     },
     "execution_count": 19,
     "metadata": {},
     "output_type": "execute_result"
    }
   ],
   "source": [
    "pre_processedData"
   ]
  },
  {
   "cell_type": "code",
   "execution_count": 56,
   "metadata": {},
   "outputs": [
    {
     "data": {
      "text/plain": [
       "'\\r\\n\\r\\n\\r\\n\\r\\n**Problem statemet**- i want to create function for last_Week_volume and this_week_volume and pass it column. can u sugest dynamic query.??\\r\\nso that through it will be possible to me calculate day wise last week volume and this week volume  for old two year data '"
      ]
     },
     "execution_count": 56,
     "metadata": {},
     "output_type": "execute_result"
    }
   ],
   "source": [
    "list(df_Filtered_data)[1]"
   ]
  },
  {
   "cell_type": "code",
   "execution_count": 15,
   "metadata": {},
   "outputs": [
    {
     "data": {
      "text/plain": [
       "'If you want to insert ellipsis dependent on the width of the string rather then the count of characters, then use this code:\\r\\n\\r\\n    public static String DoPathEllipsis(String s_Path, Font i_Font, int s32_Width)\\r\\n    {\\r\\n        TextFormatFlags e_Flags = TextFormatFlags.PathEllipsis | TextFormatFlags.ModifyString;\\r\\n        TextRenderer.MeasureText(s_Path, i_Font, new Size(s32_Width, 100), e_Flags);\\r\\n\\r\\n        int Nul = s_Path.IndexOf((Char)0);\\r\\n        if (Nul > 0)\\r\\n            s_Path = s_Path.Substring(0, Nul);\\r\\n        return s_Path;\\r\\n    }\\r\\n\\r\\nTextFormatFlags.ModifyString shortens the path and inserts a \\'\\\\0\\' character into the string. It is unusual in C# that a string is modified. The reason is that the underlying Windows API `DrawTextW()` works like this.\\r\\nBut the modified string will always be shorter than the input string, so there is no problem: A buffer overflow is not possible.\\r\\n\\r\\nExample:\\r\\n\\r\\n    String s_Text = @\"C:\\\\WINDOWS\\\\Installer{40BF1E83-20EB-11D8-97C5-0009C5020658}\\\\ARPPRODUCTICON.exe\";\\r\\n    s_Text = DoPathEllipsis(s_Text, new Font(\"Arial\", 12), 500);\\r\\n\\r\\nreturns \"C:\\\\\\\\WINDOWS\\\\\\\\Installer{40BF1E83-20EB-1...\\\\\\\\ARPPRODUCTICON.exe\"'"
      ]
     },
     "execution_count": 15,
     "metadata": {},
     "output_type": "execute_result"
    }
   ],
   "source": [
    "df_X[1]"
   ]
  },
  {
   "cell_type": "code",
   "execution_count": 73,
   "metadata": {},
   "outputs": [
    {
     "name": "stderr",
     "output_type": "stream",
     "text": [
      "<ipython-input-73-6de72bd43ab8>:3: TqdmDeprecationWarning: This function will be removed in tqdm==5.0.0\n",
      "Please use `tqdm.notebook.tqdm` instead of `tqdm.tqdm_notebook`\n",
      "  for i in tqdm(df_X):\n"
     ]
    },
    {
     "data": {
      "application/vnd.jupyter.widget-view+json": {
       "model_id": "c607147ded3b4d89a92dbabc7f1710cf",
       "version_major": 2,
       "version_minor": 0
      },
      "text/plain": [
       "HBox(children=(HTML(value=''), FloatProgress(value=0.0, max=2516.0), HTML(value='')))"
      ]
     },
     "metadata": {},
     "output_type": "display_data"
    },
    {
     "name": "stdout",
     "output_type": "stream",
     "text": [
      "\n"
     ]
    }
   ],
   "source": [
    "#Extracting the bag of words for vectorization\n",
    "bag_of_words = []\n",
    "for i in tqdm(df_X):\n",
    "    lis = i.split()\n",
    "    for j in lis:\n",
    "        if j not in bag_of_words:\n",
    "            bag_of_words.append(j)"
   ]
  },
  {
   "cell_type": "code",
   "execution_count": 74,
   "metadata": {},
   "outputs": [],
   "source": [
    "# Building a TF IDF matrix out of the bag of words\n",
    "\n",
    "td = TfidfVectorizer()\n",
    "Vectorized_X = td.fit(bag_of_words)\n"
   ]
  },
  {
   "cell_type": "code",
   "execution_count": 78,
   "metadata": {},
   "outputs": [],
   "source": [
    "# Resampling the data and getting train and test sets \n",
    "from imblearn.over_sampling import RandomOverSampler\n",
    "\n",
    "# Vectorize the input data\n",
    "Questions_Vectorized= Vectorized_X.transform(df_X)\n",
    "\n",
    "# Only the minority classes are resampled\n",
    "resample_data = RandomOverSampler(sampling_strategy='not majority', random_state=5)\n",
    "\n",
    "# The data is fit into the seleted resampler\n",
    "X_resampled, y_resampled = resample_data.fit_resample(Questions_Vectorized, df_y)\n",
    "# The resampled data is split into train and test sets\n",
    "X_train, X_test, Y_train, Y_test = train_test_split(X_resampled, y_resampled, test_size=0.2,random_state=20)"
   ]
  },
  {
   "cell_type": "markdown",
   "metadata": {},
   "source": [
    "## Dataset class-wise count after resampling"
   ]
  },
  {
   "cell_type": "code",
   "execution_count": 79,
   "metadata": {},
   "outputs": [],
   "source": [
    "resample_label_train = pd.DataFrame()\n",
    "resample_label_train[\"label\"] = Y_train"
   ]
  },
  {
   "cell_type": "code",
   "execution_count": 80,
   "metadata": {},
   "outputs": [
    {
     "data": {
      "text/plain": [
       "label           \n",
       "spam                1035\n",
       "typo errors         1034\n",
       "grammatic errors    1029\n",
       "Format errors       1024\n",
       "added or removed    1018\n",
       "dtype: int64"
      ]
     },
     "execution_count": 80,
     "metadata": {},
     "output_type": "execute_result"
    }
   ],
   "source": [
    "resample_label_train.value_counts()"
   ]
  },
  {
   "cell_type": "markdown",
   "metadata": {},
   "source": [
    "# Training and evaluating the LogisticRegression classifier"
   ]
  },
  {
   "cell_type": "code",
   "execution_count": 99,
   "metadata": {},
   "outputs": [
    {
     "name": "stdout",
     "output_type": "stream",
     "text": [
      "\n",
      " Modle's Accuracy:  85.91 %\n",
      "\n",
      "Classification Report\n",
      "======================================================\n",
      "\n",
      "                   precision    recall  f1-score   support\n",
      "\n",
      "   Format errors       0.89      0.96      0.92       261\n",
      "added or removed       0.84      0.67      0.74       267\n",
      "grammatic errors       0.85      0.80      0.83       256\n",
      "            spam       0.94      1.00      0.97       250\n",
      "     typo errors       0.78      0.87      0.82       251\n",
      "\n",
      "        accuracy                           0.86      1285\n",
      "       macro avg       0.86      0.86      0.86      1285\n",
      "    weighted avg       0.86      0.86      0.86      1285\n",
      "\n",
      "\n",
      "Confusion Matrix\n",
      "======================================================\n"
     ]
    },
    {
     "data": {
      "text/plain": [
       "<AxesSubplot:>"
      ]
     },
     "execution_count": 99,
     "metadata": {},
     "output_type": "execute_result"
    },
    {
     "data": {
      "image/png": "[encoded data removed]",
      "text/plain": [
       "<Figure size 576x360 with 2 Axes>"
      ]
     },
     "metadata": {
      "needs_background": "light"
     },
     "output_type": "display_data"
    }
   ],
   "source": [
    "# Logistic regression for classifier\n",
    "classifier = LogisticRegression(solver='lbfgs', max_iter=1000)\n",
    "classifier.fit(X_train, Y_train)\n",
    "\n",
    "\n",
    "# Classification metrics\n",
    "y_pred = classifier.predict(X_test)\n",
    "from sklearn.metrics import accuracy_score, classification_report\n",
    "classification_report = classification_report(Y_test, y_pred)\n",
    "\n",
    "print(\"\\n Modle's Accuracy: \", (round((accuracy_score(Y_test, y_pred))*100,2)),\"%\")\n",
    "print('\\nClassification Report')\n",
    "print('======================================================')\n",
    "print('\\n', classification_report)\n",
    "\n",
    "\n",
    "cm = confusion_matrix(Y_test,y_pred)\n",
    "\n",
    "\n",
    "df_cm = pd.DataFrame(cm, index = [i for i in list(set(Y_train))],\n",
    "                  columns = [i for i in list(set(Y_train))])\n",
    "plt.figure(figsize = (8,5))\n",
    "print('\\nConfusion Matrix')\n",
    "print('======================================================')\n",
    "sn.heatmap(df_cm, annot=True,  fmt='g')\n",
    "\n"
   ]
  }
 ],
 "metadata": {
  "interpreter": {
   "hash": "c1285cdaada55bd576e1938e50a494ca737632d1be8c77d45aaf1bd121ce3fb5"
  },
  "kernelspec": {
   "display_name": "Python 3.8.5 ('base')",
   "language": "python",
   "name": "python3"
  },
  "language_info": {
   "codemirror_mode": {
    "name": "ipython",
    "version": 3
   },
   "file_extension": ".py",
   "mimetype": "text/x-python",
   "name": "python",
   "nbconvert_exporter": "python",
   "pygments_lexer": "ipython3",
   "version": "3.8.5"
  },
  "orig_nbformat": 4
 },
 "nbformat": 4,
 "nbformat_minor": 2
}
