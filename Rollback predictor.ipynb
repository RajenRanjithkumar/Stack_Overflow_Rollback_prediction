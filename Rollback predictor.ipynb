{
 "cells": [
  {
   "cell_type": "markdown",
   "metadata": {},
   "source": [
    "# Rollback Predictor Classifier "
   ]
  },
  {
   "cell_type": "code",
   "execution_count": 2,
   "metadata": {},
   "outputs": [
    {
     "name": "stdout",
     "output_type": "stream",
     "text": [
      "2.3.0\n"
     ]
    },
    {
     "name": "stderr",
     "output_type": "stream",
     "text": [
      "[nltk_data] Downloading package stopwords to\n",
      "[nltk_data]     C:\\Users\\ranji\\AppData\\Roaming\\nltk_data...\n",
      "[nltk_data]   Package stopwords is already up-to-date!\n",
      "[nltk_data] Downloading package punkt to\n",
      "[nltk_data]     C:\\Users\\ranji\\AppData\\Roaming\\nltk_data...\n",
      "[nltk_data]   Package punkt is already up-to-date!\n"
     ]
    }
   ],
   "source": [
    "# importing all the libraries\n",
    "import pandas as pd\n",
    "import numpy as np\n",
    "import tensorflow as tf\n",
    "import codecs  \n",
    "from tqdm import tqdm\n",
    "import matplotlib.pyplot as plt\n",
    "\n",
    "import nltk\n",
    "from nltk.corpus import stopwords\n",
    "nltk.download('stopwords')\n",
    "nltk.download('punkt')\n",
    "from nltk.tokenize import RegexpTokenizer \n",
    "from nltk.tokenize import word_tokenize\n",
    "import os, codecs\n",
    "from keras.preprocessing.text import Tokenizer\n",
    "from sklearn.utils import shuffle\n",
    "\n",
    "\n",
    "from tensorflow.keras.preprocessing import  sequence\n",
    "from tensorflow.keras.models import Sequential\n",
    "from tensorflow.keras.layers import Dense, Dropout\n",
    "from tensorflow.keras.layers import Embedding\n",
    "from sklearn.model_selection import train_test_split\n",
    "from keras.models import load_model\n",
    "from sklearn.metrics import accuracy_score, f1_score, precision_score, recall_score\n",
    "\n",
    "from tensorflow.keras.layers import Embedding, LSTM, Dense, Dropout, Bidirectional\n",
    "plt.style.use('fivethirtyeight')\n",
    "print(tf.__version__)\n",
    "\n",
    "import os\n",
    "for dirname, _, filenames in os.walk('/kaggle/input'):\n",
    "    for filename in filenames:\n",
    "        print(filename)"
   ]
  },
  {
   "cell_type": "markdown",
   "metadata": {},
   "source": [
    "## Fetching the dataset"
   ]
  },
  {
   "cell_type": "markdown",
   "metadata": {},
   "source": [
    "### Stack Overflow Dataset was obtained from the Stack Exchange using queries\n"
   ]
  },
  {
   "cell_type": "code",
   "execution_count": 3,
   "metadata": {},
   "outputs": [],
   "source": [
    "# change the directory of the csv files\n",
    "\n",
    "# Contains reverted post body\n",
    "df_reverted = pd.read_csv('C:/Users/ranji/Desktop/SE/Project/df_reverted_body.csv')\n",
    "\n",
    "#Contains the list of modifications made to the post body\n",
    "df_modified = pd.read_csv('C:/Users/ranji/Desktop/SE/Project/df_phCombined.csv')"
   ]
  },
  {
   "cell_type": "code",
   "execution_count": 4,
   "metadata": {},
   "outputs": [],
   "source": [
    "# Getting the Non roll back and rollbacked post bodies using the Post's PostId and UserId\n",
    "new_df = pd.merge(df_reverted, df_modified,  how='left', left_on=['PostId','UserId'], right_on = ['PostId','UserId'])"
   ]
  },
  {
   "cell_type": "code",
   "execution_count": 9,
   "metadata": {},
   "outputs": [
    {
     "data": {
      "text/html": [
       "<div>\n",
       "<style scoped>\n",
       "    .dataframe tbody tr th:only-of-type {\n",
       "        vertical-align: middle;\n",
       "    }\n",
       "\n",
       "    .dataframe tbody tr th {\n",
       "        vertical-align: top;\n",
       "    }\n",
       "\n",
       "    .dataframe thead th {\n",
       "        text-align: right;\n",
       "    }\n",
       "</style>\n",
       "<table border=\"1\" class=\"dataframe\">\n",
       "  <thead>\n",
       "    <tr style=\"text-align: right;\">\n",
       "      <th></th>\n",
       "      <th>Unnamed: 0_x</th>\n",
       "      <th>Id_x</th>\n",
       "      <th>PostHistoryTypeId_x</th>\n",
       "      <th>PostId</th>\n",
       "      <th>RevisionGUID_x</th>\n",
       "      <th>CreationDate_x</th>\n",
       "      <th>UserId</th>\n",
       "      <th>UserDisplayName_x</th>\n",
       "      <th>Comment_x</th>\n",
       "      <th>Text_x</th>\n",
       "      <th>ContentLicense_x</th>\n",
       "      <th>Unnamed: 0_y</th>\n",
       "      <th>Id_y</th>\n",
       "      <th>PostHistoryTypeId_y</th>\n",
       "      <th>RevisionGUID_y</th>\n",
       "      <th>CreationDate_y</th>\n",
       "      <th>UserDisplayName_y</th>\n",
       "      <th>Comment_y</th>\n",
       "      <th>Text_y</th>\n",
       "      <th>ContentLicense_y</th>\n",
       "    </tr>\n",
       "  </thead>\n",
       "  <tbody>\n",
       "    <tr>\n",
       "      <th>0</th>\n",
       "      <td>0</td>\n",
       "      <td>163783933</td>\n",
       "      <td>8</td>\n",
       "      <td>48045396</td>\n",
       "      <td>e7e390f3-b1f6-4cdd-9367-88b5cd542d35</td>\n",
       "      <td>2018-01-01 00:53:19</td>\n",
       "      <td>5959819.0</td>\n",
       "      <td>NaN</td>\n",
       "      <td>Rollback to [657ce1d1-80ca-4229-ad48-3f66981ac...</td>\n",
       "      <td>What is the difference of an implicitly define...</td>\n",
       "      <td>CC BY-SA 3.0</td>\n",
       "      <td>11388.0</td>\n",
       "      <td>163783928.0</td>\n",
       "      <td>5.0</td>\n",
       "      <td>e7e2433d-33e4-47e7-b38a-da3aea63310e</td>\n",
       "      <td>2018-01-01 00:52:38</td>\n",
       "      <td>NaN</td>\n",
       "      <td>added 2 characters in body</td>\n",
       "      <td>What is the difference of an implicitly define...</td>\n",
       "      <td>CC BY-SA 3.0</td>\n",
       "    </tr>\n",
       "    <tr>\n",
       "      <th>1</th>\n",
       "      <td>1</td>\n",
       "      <td>163786119</td>\n",
       "      <td>8</td>\n",
       "      <td>48044278</td>\n",
       "      <td>341ee45d-5320-4ec8-9dbd-870e0e436ea5</td>\n",
       "      <td>2018-01-01 03:36:43</td>\n",
       "      <td>1136195.0</td>\n",
       "      <td>NaN</td>\n",
       "      <td>Rollback to [4b7b6472-3fcf-4278-940b-8105f868d...</td>\n",
       "      <td>The following code is working, but I don't wan...</td>\n",
       "      <td>CC BY-SA 3.0</td>\n",
       "      <td>10975.0</td>\n",
       "      <td>163775292.0</td>\n",
       "      <td>5.0</td>\n",
       "      <td>aaf17bb4-e58d-4069-ac4f-5b6fd1b69b42</td>\n",
       "      <td>2017-12-31 17:25:55</td>\n",
       "      <td>NaN</td>\n",
       "      <td>deleted 71 characters in body</td>\n",
       "      <td>The following code is working, but I don't wan...</td>\n",
       "      <td>CC BY-SA 3.0</td>\n",
       "    </tr>\n",
       "    <tr>\n",
       "      <th>2</th>\n",
       "      <td>1</td>\n",
       "      <td>163786119</td>\n",
       "      <td>8</td>\n",
       "      <td>48044278</td>\n",
       "      <td>341ee45d-5320-4ec8-9dbd-870e0e436ea5</td>\n",
       "      <td>2018-01-01 03:36:43</td>\n",
       "      <td>1136195.0</td>\n",
       "      <td>NaN</td>\n",
       "      <td>Rollback to [4b7b6472-3fcf-4278-940b-8105f868d...</td>\n",
       "      <td>The following code is working, but I don't wan...</td>\n",
       "      <td>CC BY-SA 3.0</td>\n",
       "      <td>10976.0</td>\n",
       "      <td>163775319.0</td>\n",
       "      <td>5.0</td>\n",
       "      <td>4b7b6472-3fcf-4278-940b-8105f868dcfd</td>\n",
       "      <td>2017-12-31 17:27:31</td>\n",
       "      <td>NaN</td>\n",
       "      <td>deleted 3 characters in body</td>\n",
       "      <td>The following code is working, but I don't wan...</td>\n",
       "      <td>CC BY-SA 3.0</td>\n",
       "    </tr>\n",
       "    <tr>\n",
       "      <th>3</th>\n",
       "      <td>2</td>\n",
       "      <td>163789315</td>\n",
       "      <td>8</td>\n",
       "      <td>48047744</td>\n",
       "      <td>a013402b-e6b1-48b3-92e2-b88b0017437f</td>\n",
       "      <td>2018-01-01 06:58:52</td>\n",
       "      <td>5539082.0</td>\n",
       "      <td>NaN</td>\n",
       "      <td>Rollback to [abe84ec8-fdaf-407c-8256-67def83cc...</td>\n",
       "      <td>&gt; ViewPager not refreshing in android\\r\\n\\r\\n*...</td>\n",
       "      <td>CC BY-SA 3.0</td>\n",
       "      <td>10992.0</td>\n",
       "      <td>163789415.0</td>\n",
       "      <td>5.0</td>\n",
       "      <td>dd1f84f5-6850-4218-93ee-857997658d0a</td>\n",
       "      <td>2018-01-01 07:04:10</td>\n",
       "      <td>NaN</td>\n",
       "      <td>added 53 characters in body</td>\n",
       "      <td>&gt; ViewPager not refreshing in android\\r\\n\\r\\n*...</td>\n",
       "      <td>CC BY-SA 3.0</td>\n",
       "    </tr>\n",
       "    <tr>\n",
       "      <th>4</th>\n",
       "      <td>2</td>\n",
       "      <td>163789315</td>\n",
       "      <td>8</td>\n",
       "      <td>48047744</td>\n",
       "      <td>a013402b-e6b1-48b3-92e2-b88b0017437f</td>\n",
       "      <td>2018-01-01 06:58:52</td>\n",
       "      <td>5539082.0</td>\n",
       "      <td>NaN</td>\n",
       "      <td>Rollback to [abe84ec8-fdaf-407c-8256-67def83cc...</td>\n",
       "      <td>&gt; ViewPager not refreshing in android\\r\\n\\r\\n*...</td>\n",
       "      <td>CC BY-SA 3.0</td>\n",
       "      <td>10994.0</td>\n",
       "      <td>163789492.0</td>\n",
       "      <td>5.0</td>\n",
       "      <td>698c7170-454c-45ee-be77-b24fb309c1e4</td>\n",
       "      <td>2018-01-01 07:08:48</td>\n",
       "      <td>NaN</td>\n",
       "      <td>added 93 characters in body</td>\n",
       "      <td>&gt;if i change the image in server(different ima...</td>\n",
       "      <td>CC BY-SA 3.0</td>\n",
       "    </tr>\n",
       "  </tbody>\n",
       "</table>\n",
       "</div>"
      ],
      "text/plain": [
       "   Unnamed: 0_x       Id_x  PostHistoryTypeId_x    PostId  \\\n",
       "0             0  163783933                    8  48045396   \n",
       "1             1  163786119                    8  48044278   \n",
       "2             1  163786119                    8  48044278   \n",
       "3             2  163789315                    8  48047744   \n",
       "4             2  163789315                    8  48047744   \n",
       "\n",
       "                         RevisionGUID_x       CreationDate_x     UserId  \\\n",
       "0  e7e390f3-b1f6-4cdd-9367-88b5cd542d35  2018-01-01 00:53:19  5959819.0   \n",
       "1  341ee45d-5320-4ec8-9dbd-870e0e436ea5  2018-01-01 03:36:43  1136195.0   \n",
       "2  341ee45d-5320-4ec8-9dbd-870e0e436ea5  2018-01-01 03:36:43  1136195.0   \n",
       "3  a013402b-e6b1-48b3-92e2-b88b0017437f  2018-01-01 06:58:52  5539082.0   \n",
       "4  a013402b-e6b1-48b3-92e2-b88b0017437f  2018-01-01 06:58:52  5539082.0   \n",
       "\n",
       "  UserDisplayName_x                                          Comment_x  \\\n",
       "0               NaN  Rollback to [657ce1d1-80ca-4229-ad48-3f66981ac...   \n",
       "1               NaN  Rollback to [4b7b6472-3fcf-4278-940b-8105f868d...   \n",
       "2               NaN  Rollback to [4b7b6472-3fcf-4278-940b-8105f868d...   \n",
       "3               NaN  Rollback to [abe84ec8-fdaf-407c-8256-67def83cc...   \n",
       "4               NaN  Rollback to [abe84ec8-fdaf-407c-8256-67def83cc...   \n",
       "\n",
       "                                              Text_x ContentLicense_x  \\\n",
       "0  What is the difference of an implicitly define...     CC BY-SA 3.0   \n",
       "1  The following code is working, but I don't wan...     CC BY-SA 3.0   \n",
       "2  The following code is working, but I don't wan...     CC BY-SA 3.0   \n",
       "3  > ViewPager not refreshing in android\\r\\n\\r\\n*...     CC BY-SA 3.0   \n",
       "4  > ViewPager not refreshing in android\\r\\n\\r\\n*...     CC BY-SA 3.0   \n",
       "\n",
       "   Unnamed: 0_y         Id_y  PostHistoryTypeId_y  \\\n",
       "0       11388.0  163783928.0                  5.0   \n",
       "1       10975.0  163775292.0                  5.0   \n",
       "2       10976.0  163775319.0                  5.0   \n",
       "3       10992.0  163789415.0                  5.0   \n",
       "4       10994.0  163789492.0                  5.0   \n",
       "\n",
       "                         RevisionGUID_y       CreationDate_y  \\\n",
       "0  e7e2433d-33e4-47e7-b38a-da3aea63310e  2018-01-01 00:52:38   \n",
       "1  aaf17bb4-e58d-4069-ac4f-5b6fd1b69b42  2017-12-31 17:25:55   \n",
       "2  4b7b6472-3fcf-4278-940b-8105f868dcfd  2017-12-31 17:27:31   \n",
       "3  dd1f84f5-6850-4218-93ee-857997658d0a  2018-01-01 07:04:10   \n",
       "4  698c7170-454c-45ee-be77-b24fb309c1e4  2018-01-01 07:08:48   \n",
       "\n",
       "  UserDisplayName_y                      Comment_y  \\\n",
       "0               NaN     added 2 characters in body   \n",
       "1               NaN  deleted 71 characters in body   \n",
       "2               NaN   deleted 3 characters in body   \n",
       "3               NaN    added 53 characters in body   \n",
       "4               NaN    added 93 characters in body   \n",
       "\n",
       "                                              Text_y ContentLicense_y  \n",
       "0  What is the difference of an implicitly define...     CC BY-SA 3.0  \n",
       "1  The following code is working, but I don't wan...     CC BY-SA 3.0  \n",
       "2  The following code is working, but I don't wan...     CC BY-SA 3.0  \n",
       "3  > ViewPager not refreshing in android\\r\\n\\r\\n*...     CC BY-SA 3.0  \n",
       "4  >if i change the image in server(different ima...     CC BY-SA 3.0  "
      ]
     },
     "execution_count": 9,
     "metadata": {},
     "output_type": "execute_result"
    }
   ],
   "source": [
    "new_df.head()"
   ]
  },
  {
   "cell_type": "code",
   "execution_count": 10,
   "metadata": {},
   "outputs": [
    {
     "data": {
      "text/html": [
       "<div>\n",
       "<style scoped>\n",
       "    .dataframe tbody tr th:only-of-type {\n",
       "        vertical-align: middle;\n",
       "    }\n",
       "\n",
       "    .dataframe tbody tr th {\n",
       "        vertical-align: top;\n",
       "    }\n",
       "\n",
       "    .dataframe thead th {\n",
       "        text-align: right;\n",
       "    }\n",
       "</style>\n",
       "<table border=\"1\" class=\"dataframe\">\n",
       "  <thead>\n",
       "    <tr style=\"text-align: right;\">\n",
       "      <th></th>\n",
       "      <th>data</th>\n",
       "      <th>labels</th>\n",
       "    </tr>\n",
       "  </thead>\n",
       "  <tbody>\n",
       "    <tr>\n",
       "      <th>0</th>\n",
       "      <td>What is the difference of an implicitly define...</td>\n",
       "      <td>0</td>\n",
       "    </tr>\n",
       "    <tr>\n",
       "      <th>1</th>\n",
       "      <td>The following code is working, but I don't wan...</td>\n",
       "      <td>0</td>\n",
       "    </tr>\n",
       "    <tr>\n",
       "      <th>2</th>\n",
       "      <td>The following code is working, but I don't wan...</td>\n",
       "      <td>0</td>\n",
       "    </tr>\n",
       "    <tr>\n",
       "      <th>3</th>\n",
       "      <td>&gt; ViewPager not refreshing in android\\r\\n\\r\\n*...</td>\n",
       "      <td>0</td>\n",
       "    </tr>\n",
       "    <tr>\n",
       "      <th>4</th>\n",
       "      <td>&gt; ViewPager not refreshing in android\\r\\n\\r\\n*...</td>\n",
       "      <td>0</td>\n",
       "    </tr>\n",
       "  </tbody>\n",
       "</table>\n",
       "</div>"
      ],
      "text/plain": [
       "                                                data  labels\n",
       "0  What is the difference of an implicitly define...       0\n",
       "1  The following code is working, but I don't wan...       0\n",
       "2  The following code is working, but I don't wan...       0\n",
       "3  > ViewPager not refreshing in android\\r\\n\\r\\n*...       0\n",
       "4  > ViewPager not refreshing in android\\r\\n\\r\\n*...       0"
      ]
     },
     "execution_count": 10,
     "metadata": {},
     "output_type": "execute_result"
    }
   ],
   "source": [
    "# non reverted post bodies\n",
    "class0 = pd.DataFrame()\n",
    "class0[\"data\"] = new_df[\"Text_x\"]\n",
    "class0[\"labels\"] = 0\n",
    "class0.head()"
   ]
  },
  {
   "cell_type": "code",
   "execution_count": 12,
   "metadata": {},
   "outputs": [
    {
     "data": {
      "text/html": [
       "<div>\n",
       "<style scoped>\n",
       "    .dataframe tbody tr th:only-of-type {\n",
       "        vertical-align: middle;\n",
       "    }\n",
       "\n",
       "    .dataframe tbody tr th {\n",
       "        vertical-align: top;\n",
       "    }\n",
       "\n",
       "    .dataframe thead th {\n",
       "        text-align: right;\n",
       "    }\n",
       "</style>\n",
       "<table border=\"1\" class=\"dataframe\">\n",
       "  <thead>\n",
       "    <tr style=\"text-align: right;\">\n",
       "      <th></th>\n",
       "      <th>data</th>\n",
       "      <th>labels</th>\n",
       "    </tr>\n",
       "  </thead>\n",
       "  <tbody>\n",
       "    <tr>\n",
       "      <th>0</th>\n",
       "      <td>What is the difference of an implicitly define...</td>\n",
       "      <td>1</td>\n",
       "    </tr>\n",
       "    <tr>\n",
       "      <th>1</th>\n",
       "      <td>The following code is working, but I don't wan...</td>\n",
       "      <td>1</td>\n",
       "    </tr>\n",
       "    <tr>\n",
       "      <th>2</th>\n",
       "      <td>The following code is working, but I don't wan...</td>\n",
       "      <td>1</td>\n",
       "    </tr>\n",
       "    <tr>\n",
       "      <th>3</th>\n",
       "      <td>&gt; ViewPager not refreshing in android\\r\\n\\r\\n*...</td>\n",
       "      <td>1</td>\n",
       "    </tr>\n",
       "    <tr>\n",
       "      <th>4</th>\n",
       "      <td>&gt;if i change the image in server(different ima...</td>\n",
       "      <td>1</td>\n",
       "    </tr>\n",
       "  </tbody>\n",
       "</table>\n",
       "</div>"
      ],
      "text/plain": [
       "                                                data  labels\n",
       "0  What is the difference of an implicitly define...       1\n",
       "1  The following code is working, but I don't wan...       1\n",
       "2  The following code is working, but I don't wan...       1\n",
       "3  > ViewPager not refreshing in android\\r\\n\\r\\n*...       1\n",
       "4  >if i change the image in server(different ima...       1"
      ]
     },
     "execution_count": 12,
     "metadata": {},
     "output_type": "execute_result"
    }
   ],
   "source": [
    "# reverted post bodies\n",
    "class1 = pd.DataFrame()\n",
    "class1[\"data\"] = new_df[\"Text_y\"]\n",
    "class1[\"labels\"] = 1\n",
    "class1.head()"
   ]
  },
  {
   "cell_type": "code",
   "execution_count": 13,
   "metadata": {},
   "outputs": [],
   "source": [
    "# Combining both classes\n",
    "df_dataset = pd.concat([class0, class1], axis=0)"
   ]
  },
  {
   "cell_type": "code",
   "execution_count": 14,
   "metadata": {},
   "outputs": [],
   "source": [
    "# Shuffling the dataset\n",
    "dataset = shuffle(df_dataset)"
   ]
  },
  {
   "cell_type": "code",
   "execution_count": 16,
   "metadata": {},
   "outputs": [],
   "source": [
    "# Splitting the dataset for training and testing the classifier\n",
    "X_train, X_test, y_train, y_test = train_test_split(dataset[\"data\"], dataset[\"labels\"], test_size=0.2, random_state=42)"
   ]
  },
  {
   "cell_type": "markdown",
   "metadata": {},
   "source": [
    "## Data Preprocessing and Vectorization"
   ]
  },
  {
   "cell_type": "code",
   "execution_count": 19,
   "metadata": {},
   "outputs": [],
   "source": [
    "dataset['doc_len'] = dataset['data'].apply(lambda words: len(str(words).split(\" \")))\n",
    "max_seq_len = np.round(dataset['doc_len'].mean() + dataset['doc_len'].std()).astype(int)"
   ]
  },
  {
   "cell_type": "code",
   "execution_count": 20,
   "metadata": {},
   "outputs": [],
   "source": [
    "max_features = 20000\n",
    "max_text_length = 400"
   ]
  },
  {
   "cell_type": "code",
   "execution_count": 21,
   "metadata": {},
   "outputs": [
    {
     "name": "stderr",
     "output_type": "stream",
     "text": [
      "695it [00:00, 6930.92it/s]"
     ]
    },
    {
     "name": "stdout",
     "output_type": "stream",
     "text": [
      "loading word embeddings...\n"
     ]
    },
    {
     "name": "stderr",
     "output_type": "stream",
     "text": [
      "2196018it [05:24, 6777.13it/s]"
     ]
    },
    {
     "name": "stdout",
     "output_type": "stream",
     "text": [
      "found 2196016 word vectors\n"
     ]
    },
    {
     "name": "stderr",
     "output_type": "stream",
     "text": [
      "\n"
     ]
    }
   ],
   "source": [
    "# Fetching the Glove word Emembeddings\n",
    "print('loading word embeddings...')\n",
    "\n",
    "embeddings_index = {}\n",
    "f = codecs.open('C:/Users/ranji/Desktop/NLP/Project/twitter hate speech/Code/Dataset/glove.840B.300d/glove.840B.300d.txt', encoding='utf-8')\n",
    "\n",
    "for line in tqdm(f):\n",
    "    values = line.rstrip().rsplit(' ')\n",
    "    word = values[0]\n",
    "    coefs = np.asarray(values[1:], dtype='float32')\n",
    "    embeddings_index[word] = coefs\n",
    "f.close()\n",
    "\n",
    "print('found %s word vectors' % len(embeddings_index))"
   ]
  },
  {
   "cell_type": "code",
   "execution_count": 22,
   "metadata": {},
   "outputs": [],
   "source": [
    "MAX_NB_WORDS = 100000\n",
    "tokenizer = RegexpTokenizer(r'\\w+')\n",
    "stop_words = set(stopwords.words('english'))\n"
   ]
  },
  {
   "cell_type": "code",
   "execution_count": 23,
   "metadata": {},
   "outputs": [
    {
     "name": "stderr",
     "output_type": "stream",
     "text": [
      "  0%|          | 50/146795 [00:00<05:00, 488.82it/s]"
     ]
    },
    {
     "name": "stdout",
     "output_type": "stream",
     "text": [
      "pre-processing train data...\n"
     ]
    },
    {
     "name": "stderr",
     "output_type": "stream",
     "text": [
      "100%|██████████| 146795/146795 [05:22<00:00, 455.86it/s]\n",
      "100%|██████████| 36699/36699 [01:20<00:00, 458.37it/s]\n"
     ]
    },
    {
     "name": "stdout",
     "output_type": "stream",
     "text": [
      "tokenizing input data...\n",
      "dictionary size:  254068\n"
     ]
    }
   ],
   "source": [
    "raw_docs_train = X_train.to_list()\n",
    "raw_docs_test = X_test.to_list()\n",
    "\n",
    "\n",
    "print(\"pre-processing train data...\")\n",
    "\n",
    "processed_docs_train = []\n",
    "for doc in tqdm(raw_docs_train):\n",
    "    tokens = word_tokenize(str(doc))\n",
    "    filtered = [word for word in tokens if word not in stop_words]\n",
    "    processed_docs_train.append(\" \".join(filtered))\n",
    "#end for\n",
    "\n",
    "processed_docs_test = []\n",
    "for doc in tqdm(raw_docs_test):\n",
    "    tokens = word_tokenize(str(doc))\n",
    "    filtered = [word for word in tokens if word not in stop_words]\n",
    "    processed_docs_test.append(\" \".join(filtered))\n",
    "#end for\n",
    "\n",
    "print(\"tokenizing input data...\")\n",
    "tokenizer = Tokenizer(num_words=MAX_NB_WORDS, lower=True, char_level=False)\n",
    "tokenizer.fit_on_texts(processed_docs_train + processed_docs_test)  \n",
    "word_seq_train = tokenizer.texts_to_sequences(processed_docs_train)\n",
    "word_seq_test = tokenizer.texts_to_sequences(processed_docs_test)\n",
    "word_index = tokenizer.word_index\n",
    "print(\"dictionary size: \", len(word_index))\n",
    "\n",
    "word_seq_train = sequence.pad_sequences(word_seq_train, maxlen=max_seq_len)\n",
    "word_seq_test = sequence.pad_sequences(word_seq_test, maxlen=max_seq_len)"
   ]
  },
  {
   "cell_type": "code",
   "execution_count": null,
   "metadata": {},
   "outputs": [],
   "source": [
    "#Embedding matrix parameters\n",
    "MAX_NB_WORDS = 100000\n",
    "num_filters = 64 \n",
    "embed_dim = 300 \n",
    "weight_decay = 1e-4"
   ]
  },
  {
   "cell_type": "markdown",
   "metadata": {},
   "source": [
    "## Generating an glove embedding matrix for the LSTM classifier"
   ]
  },
  {
   "cell_type": "code",
   "execution_count": 157,
   "metadata": {},
   "outputs": [
    {
     "name": "stdout",
     "output_type": "stream",
     "text": [
      "preparing embedding matrix...\n",
      "number of null word embeddings: 63906\n"
     ]
    }
   ],
   "source": [
    "#embedding matrix\n",
    "\n",
    "print('preparing embedding matrix...')\n",
    "\n",
    "words_not_found = []\n",
    "nb_words = min(MAX_NB_WORDS, len(word_index)+1)\n",
    "embedding_matrix = np.zeros((nb_words, embed_dim))\n",
    "\n",
    "for word, i in word_index.items():\n",
    "    if i >= nb_words:\n",
    "        continue\n",
    "    embedding_vector = embeddings_index.get(word)\n",
    "    if (embedding_vector is not None) and len(embedding_vector) > 0:\n",
    "        # words not found in embedding index will be all-zeros.\n",
    "        embedding_matrix[i] = embedding_vector\n",
    "    else:\n",
    "        words_not_found.append(word)\n",
    "print('number of null word embeddings: %d' % np.sum(np.sum(embedding_matrix, axis=1) == 0))"
   ]
  },
  {
   "cell_type": "markdown",
   "metadata": {},
   "source": [
    "## LSTM model structure"
   ]
  },
  {
   "cell_type": "code",
   "execution_count": 164,
   "metadata": {},
   "outputs": [
    {
     "name": "stdout",
     "output_type": "stream",
     "text": [
      "Model: \"sequential_1\"\n",
      "_________________________________________________________________\n",
      "Layer (type)                 Output Shape              Param #   \n",
      "=================================================================\n",
      "embedding_1 (Embedding)      (None, 973, 300)          30000000  \n",
      "_________________________________________________________________\n",
      "bidirectional_1 (Bidirection (None, 64)                85248     \n",
      "_________________________________________________________________\n",
      "dense_2 (Dense)              (None, 32)                2080      \n",
      "_________________________________________________________________\n",
      "dropout_1 (Dropout)          (None, 32)                0         \n",
      "_________________________________________________________________\n",
      "dense_3 (Dense)              (None, 1)                 33        \n",
      "=================================================================\n",
      "Total params: 30,087,361\n",
      "Trainable params: 87,361\n",
      "Non-trainable params: 30,000,000\n",
      "_________________________________________________________________\n"
     ]
    }
   ],
   "source": [
    "from keras.layers import BatchNormalization\n",
    "import tensorflow as tf\n",
    "\n",
    "model = tf.keras.Sequential()\n",
    "\n",
    "model.add(Embedding(nb_words,embed_dim,input_length=max_seq_len, weights=[embedding_matrix],trainable=False))\n",
    "model.add(Bidirectional(LSTM(32)))\n",
    "model.add(Dense(32,activation='relu'))\n",
    "model.add(Dropout(0.4))\n",
    "model.add(Dense(1,activation='sigmoid'))\n",
    "model.summary()"
   ]
  },
  {
   "cell_type": "code",
   "execution_count": 165,
   "metadata": {},
   "outputs": [],
   "source": [
    "from keras.optimizers import RMSprop\n",
    "from keras.callbacks import ModelCheckpoint\n",
    "from tensorflow.keras.callbacks import EarlyStopping\n",
    "\n",
    "model.compile(loss='binary_crossentropy', optimizer='adam', metrics=['accuracy'])"
   ]
  },
  {
   "cell_type": "markdown",
   "metadata": {},
   "source": [
    "## Training the LSTM model"
   ]
  },
  {
   "cell_type": "markdown",
   "metadata": {},
   "source": [
    "### To save time, load the attached trained rollBackPredictor model instead of training it from the scratch"
   ]
  },
  {
   "cell_type": "code",
   "execution_count": 402,
   "metadata": {},
   "outputs": [
    {
     "name": "stdout",
     "output_type": "stream",
     "text": [
      "Epoch 1/2\n",
      "230/230 [==============================] - 15290s 66s/step - loss: 0.5655 - accuracy: 0.6671 - val_loss: 0.5645 - val_accuracy: 0.6656\n",
      "Epoch 2/2\n",
      "230/230 [==============================] - 16205s 70s/step - loss: 0.5612 - accuracy: 0.6709 - val_loss: 0.5627 - val_accuracy: 0.6665\n"
     ]
    }
   ],
   "source": [
    "es_callback = EarlyStopping(monitor='val_loss', patience=3)\n",
    "\n",
    "history = model.fit(word_seq_train, y_train, batch_size= 512, epochs = 25, validation_split=0.2, callbacks=[es_callback])\n",
    "model.save('rollBackPredictor.h5')"
   ]
  },
  {
   "cell_type": "markdown",
   "metadata": {},
   "source": [
    "### To save time, load the attached trained rollBackPredictor model instead of training it from the scratch"
   ]
  },
  {
   "cell_type": "markdown",
   "metadata": {},
   "source": [
    "# Model Evaluation"
   ]
  },
  {
   "cell_type": "code",
   "execution_count": null,
   "metadata": {},
   "outputs": [],
   "source": [
    "model = load_model('rollBackPredictor.h5')"
   ]
  },
  {
   "cell_type": "code",
   "execution_count": 289,
   "metadata": {},
   "outputs": [
    {
     "name": "stdout",
     "output_type": "stream",
     "text": [
      "1147/1147 [==============================] - 286s 250ms/step\n"
     ]
    }
   ],
   "source": [
    "y_pred = model.predict(word_seq_test,verbose=1,batch_size=32)"
   ]
  },
  {
   "cell_type": "code",
   "execution_count": 291,
   "metadata": {},
   "outputs": [],
   "source": [
    "final_y_pred = [0 if y[0] < 0.5 else 1 for y in y_pred]"
   ]
  },
  {
   "cell_type": "code",
   "execution_count": 292,
   "metadata": {},
   "outputs": [
    {
     "name": "stdout",
     "output_type": "stream",
     "text": [
      "Accuracy: 66.41%\n"
     ]
    }
   ],
   "source": [
    "print(\"Accuracy: {:.2f}%\".format(accuracy_score(y_test, final_y_pred) * 100))"
   ]
  },
  {
   "cell_type": "code",
   "execution_count": 24,
   "metadata": {},
   "outputs": [
    {
     "name": "stdout",
     "output_type": "stream",
     "text": [
      "1147/1147 [==============================] - 188s 164ms/step\n"
     ]
    }
   ],
   "source": [
    "y_pred = model.predict(word_seq_test,verbose=1,batch_size=32)"
   ]
  },
  {
   "cell_type": "code",
   "execution_count": 25,
   "metadata": {},
   "outputs": [
    {
     "name": "stdout",
     "output_type": "stream",
     "text": [
      "Accuracy: 66.11%\n"
     ]
    }
   ],
   "source": [
    "final_y_pred = [0 if y[0] < 0.5 else 1 for y in y_pred]\n",
    "print(\"Accuracy: {:.2f}%\".format(accuracy_score(y_test, final_y_pred) * 100))\n"
   ]
  },
  {
   "cell_type": "code",
   "execution_count": 26,
   "metadata": {},
   "outputs": [
    {
     "name": "stdout",
     "output_type": "stream",
     "text": [
      "precision_score: 0.773493\n"
     ]
    }
   ],
   "source": [
    "print(\"precision_score: {:.6f}\".format(precision_score(y_test, final_y_pred, average='macro')))"
   ]
  },
  {
   "cell_type": "code",
   "execution_count": 27,
   "metadata": {},
   "outputs": [
    {
     "name": "stdout",
     "output_type": "stream",
     "text": [
      "recall_score: 0.663000\n"
     ]
    }
   ],
   "source": [
    "print(\"recall_score: {:.6f}\".format(recall_score(y_test, final_y_pred, average='macro')))"
   ]
  },
  {
   "cell_type": "code",
   "execution_count": 28,
   "metadata": {},
   "outputs": [
    {
     "name": "stdout",
     "output_type": "stream",
     "text": [
      "F1 Score: 0.623798\n"
     ]
    }
   ],
   "source": [
    "print(\"F1 Score: {:.6f}\".format(f1_score(y_test, final_y_pred, average='macro')))"
   ]
  }
 ],
 "metadata": {
  "kernelspec": {
   "display_name": "Python 3",
   "language": "python",
   "name": "python3"
  },
  "language_info": {
   "codemirror_mode": {
    "name": "ipython",
    "version": 3
   },
   "file_extension": ".py",
   "mimetype": "text/x-python",
   "name": "python",
   "nbconvert_exporter": "python",
   "pygments_lexer": "ipython3",
   "version": "3.8.5"
  }
 },
 "nbformat": 4,
 "nbformat_minor": 4
}
